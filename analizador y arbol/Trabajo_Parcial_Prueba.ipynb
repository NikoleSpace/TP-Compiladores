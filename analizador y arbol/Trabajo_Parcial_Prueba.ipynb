{
  "nbformat": 4,
  "nbformat_minor": 0,
  "metadata": {
    "colab": {
      "provenance": [],
      "toc_visible": true,
      "include_colab_link": true
    },
    "kernelspec": {
      "name": "python3",
      "display_name": "Python 3"
    },
    "language_info": {
      "name": "python"
    }
  },
  "cells": [
    {
      "cell_type": "markdown",
      "metadata": {
        "id": "view-in-github",
        "colab_type": "text"
      },
      "source": [
        "<a href=\"https://colab.research.google.com/github/NikoleSpace/TP-Compiladores/blob/main/analizador%20y%20arbol/Trabajo_Parcial_Prueba.ipynb\" target=\"_parent\"><img src=\"https://colab.research.google.com/assets/colab-badge.svg\" alt=\"Open In Colab\"/></a>"
      ]
    },
    {
      "cell_type": "markdown",
      "source": [
        "##1. Instalación de los paquetes:\n",
        "* ANTLR\n",
        "* JAVA"
      ],
      "metadata": {
        "id": "apHdBc6TGoJ4"
      }
    },
    {
      "cell_type": "code",
      "source": [
        "#Actualización de los paquetes\n",
        "!sudo apt-get update\n",
        "!sudo apt-get upgrade"
      ],
      "metadata": {
        "id": "4Vf9O39zJBjw"
      },
      "execution_count": null,
      "outputs": []
    },
    {
      "cell_type": "code",
      "source": [
        "#Instalación de openJDK 17 para java\n",
        "!apt-get install -y openjdk-17-jdk"
      ],
      "metadata": {
        "id": "YJ2-5UvsE8MI"
      },
      "execution_count": null,
      "outputs": []
    },
    {
      "cell_type": "code",
      "source": [
        "#Ver la versión actual de java\n",
        "!java --version"
      ],
      "metadata": {
        "id": "iAO05mKSGnwn"
      },
      "execution_count": null,
      "outputs": []
    },
    {
      "cell_type": "code",
      "source": [
        "#Se actualizan las variables de entorno\n",
        "!update-alternatives --config java"
      ],
      "metadata": {
        "id": "Rh2zIZxqMfUe"
      },
      "execution_count": null,
      "outputs": []
    },
    {
      "cell_type": "code",
      "source": [
        "#Instalando antlr4 mediante python\n",
        "!python -m pip install antlr4-tools"
      ],
      "metadata": {
        "id": "N7-EUpWbY-6B"
      },
      "execution_count": null,
      "outputs": []
    },
    {
      "cell_type": "code",
      "source": [
        "#Instalando los paquetes de antlr4\n",
        "!antlr4"
      ],
      "metadata": {
        "id": "gmhWOHVWWsi1"
      },
      "execution_count": null,
      "outputs": []
    },
    {
      "cell_type": "code",
      "source": [
        "#!git clone https://github.com/lmcanavals/compilers.git"
      ],
      "metadata": {
        "id": "lxit6mHhPgb4"
      },
      "execution_count": null,
      "outputs": []
    },
    {
      "cell_type": "code",
      "source": [
        "#Comprobando si esta el archivo jar de antlr4\n",
        "!cat ~/.m2/repository/org/antlr/antlr4/4.13.1/antlr4-4.13.1-complete.jar\n",
        "#El archivo es gigantesco!"
      ],
      "metadata": {
        "id": "wrfUoCtRTdha"
      },
      "execution_count": null,
      "outputs": []
    },
    {
      "cell_type": "markdown",
      "source": [
        "##2. Creación de los analizadores sintatico, lexico"
      ],
      "metadata": {
        "id": "1Zm9chNuGvAv"
      }
    },
    {
      "cell_type": "code",
      "source": [
        "%%writefile DOT.g4\n",
        "grammar DOT;\n",
        "\n",
        "graph\n",
        "   : STRICT? ( GRAPH | DIGRAPH ) id_? '{' stmt_list '}' EOF\n",
        "   ;\n",
        "\n",
        "stmt_list\n",
        "   : ( stmt ';'? )*\n",
        "   ;\n",
        "\n",
        "stmt\n",
        "   : node_stmt | edge_stmt | attr_stmt | id_ '=' id_ | subgraph\n",
        "   ;\n",
        "\n",
        "attr_stmt\n",
        "   : ( GRAPH | NODE | EDGE ) attr_list\n",
        "   ;\n",
        "\n",
        "attr_list\n",
        "   : ( '[' a_list? ']' )+\n",
        "   ;\n",
        "\n",
        "a_list\n",
        "   : ( id_ ( '=' id_ )? ','? )+\n",
        "   ;\n",
        "\n",
        "edge_stmt\n",
        "   : ( node_id | subgraph ) edgeRHS attr_list?\n",
        "   ;\n",
        "\n",
        "edgeRHS\n",
        "   : ( edgeop ( node_id | subgraph ) )+\n",
        "   ;\n",
        "\n",
        "\n",
        "edgeop\n",
        "   : '->' | '--'\n",
        "   ;\n",
        "\n",
        "\n",
        "node_stmt\n",
        "   : node_id attr_list?\n",
        "   ;\n",
        "\n",
        "node_id\n",
        "   : id_ port?\n",
        "   ;\n",
        "\n",
        "port\n",
        "   : ':' id_ ( ':' id_ )?\n",
        "   ;\n",
        "\n",
        "subgraph\n",
        "   : ( SUBGRAPH id_? )? '{' stmt_list '}'\n",
        "   ;\n",
        "\n",
        "id_\n",
        "   : ID | STRING | HTML_STRING | NUMBER\n",
        "   ;\n",
        "\n",
        "compass_pt\n",
        "   : 'n' | 'ne' | 'e' | 'se' | 's' | 'sw' | 'w' | 'nw' | 'c' | '_';\n",
        "\n",
        "STRICT\n",
        "   : [Ss] [Tt] [Rr] [Ii] [Cc] [Tt]\n",
        "   ;\n",
        "\n",
        "\n",
        "GRAPH\n",
        "   : [Gg] [Rr] [Aa] [Pp] [Hh]\n",
        "   ;\n",
        "\n",
        "\n",
        "DIGRAPH\n",
        "   : [Dd] [Ii] [Gg] [Rr] [Aa] [Pp] [Hh]\n",
        "   ;\n",
        "\n",
        "\n",
        "NODE\n",
        "   : [Nn] [Oo] [Dd] [Ee]\n",
        "   ;\n",
        "\n",
        "\n",
        "EDGE\n",
        "   : [Ee] [Dd] [Gg] [Ee]\n",
        "   ;\n",
        "\n",
        "\n",
        "SUBGRAPH\n",
        "   : [Ss] [Uu] [Bb] [Gg] [Rr] [Aa] [Pp] [Hh]\n",
        "   ;\n",
        "\n",
        "\n",
        "NUMBER\n",
        "   : '-'? ( '.' DIGIT+ | DIGIT+ ( '.' DIGIT* )? )\n",
        "   ;\n",
        "\n",
        "\n",
        "fragment DIGIT\n",
        "   : [0-9]\n",
        "   ;\n",
        "\n",
        "\n",
        "STRING\n",
        "   : '\"' ( '\\\\\"' | . )*? '\"'\n",
        "   ;\n",
        "\n",
        "ID\n",
        "   : LETTER ( LETTER | DIGIT )*\n",
        "   ;\n",
        "\n",
        "\n",
        "fragment LETTER\n",
        "   : [a-zA-Z\\u0080-\\u00FF_]\n",
        "   ;\n",
        "\n",
        "\n",
        "HTML_STRING\n",
        "   : '<' ( TAG | ~ [<>] )* '>'\n",
        "   ;\n",
        "\n",
        "\n",
        "fragment TAG\n",
        "   : '<' .*? '>'\n",
        "   ;\n",
        "\n",
        "\n",
        "COMMENT\n",
        "   : '/*' .*? '*/' -> skip\n",
        "   ;\n",
        "\n",
        "\n",
        "LINE_COMMENT\n",
        "   : '//' .*? '\\r'? '\\n' -> skip\n",
        "   ;\n",
        "\n",
        "\n",
        "PREPROC\n",
        "   : '#' ~[\\r\\n]* -> skip\n",
        "   ;\n",
        "\n",
        "\n",
        "WS\n",
        "   : [ \\t\\n\\r]+ -> skip\n",
        "   ;"
      ],
      "metadata": {
        "colab": {
          "base_uri": "https://localhost:8080/"
        },
        "id": "j_PlJCA3AkeE",
        "outputId": "a8b44b1f-d4a2-40b2-f314-a5716be311cc"
      },
      "execution_count": null,
      "outputs": [
        {
          "output_type": "stream",
          "name": "stdout",
          "text": [
            "Writing DOT.g4\n"
          ]
        }
      ]
    },
    {
      "cell_type": "code",
      "source": [
        "#Se generan los arhivos de lexer, parser y visitor(semantico) de nuestra grámatica\n",
        "!antlr4 DOT.g4\n",
        "!ls DOT*.java"
      ],
      "metadata": {
        "id": "6aIXHc_sYK44",
        "colab": {
          "base_uri": "https://localhost:8080/"
        },
        "outputId": "73657cbc-bf73-44af-839e-803ae1a97628"
      },
      "execution_count": null,
      "outputs": [
        {
          "output_type": "stream",
          "name": "stdout",
          "text": [
            "DOTBaseListener.java  DOTLexer.java  DOTListener.java  DOTParser.java\n"
          ]
        }
      ]
    },
    {
      "cell_type": "markdown",
      "source": [
        "# 3. Traducción de árbol sintáctico generado"
      ],
      "metadata": {
        "id": "A3aH0op1-SE-"
      }
    },
    {
      "cell_type": "code",
      "source": [
        "%%writefile ejemplo.expr\n",
        "digraph G {\n",
        "  A [label=\"Nodo A\", shape=ellipse];\n",
        "  B [label=\"Nodo B\", shape=box];\n",
        "  C [label=\"Nodo C\", shape=diamond];\n",
        "\n",
        "  A -> B [label=\"A -> B\", color=blue];\n",
        "  B -> C [label=\"B -> C\", color=red];\n",
        "  C -> A [label=\"C -> A\", color=green];\n",
        "}\n"
      ],
      "metadata": {
        "colab": {
          "base_uri": "https://localhost:8080/"
        },
        "id": "Z3oNUWQkBZQK",
        "outputId": "f8765547-723a-4899-b70e-4176f5978c86"
      },
      "execution_count": null,
      "outputs": [
        {
          "output_type": "stream",
          "name": "stdout",
          "text": [
            "Writing ejemplo.expr\n"
          ]
        }
      ]
    },
    {
      "cell_type": "code",
      "source": [
        "#Compilando nuestra grámatica usando el parser de antlr4, este nos devolverá el arbol sintactico\n",
        "!antlr4-parse DOT.g4 graph -tree ejemplo.expr"
      ],
      "metadata": {
        "colab": {
          "base_uri": "https://localhost:8080/"
        },
        "id": "DOiPUAAzVGOj",
        "outputId": "ea448f18-e5fb-4551-f7ec-79a07941cc6f"
      },
      "execution_count": null,
      "outputs": [
        {
          "output_type": "stream",
          "name": "stdout",
          "text": [
            "(graph:2 digraph (id_:1 G) { (stmt_list:1 (stmt:1 (node_stmt:1 (node_id:1 (id_:1 A)) (attr_list:1 [ (a_list:1 (id_:1 label) = (id_:1 \"Nodo A\") , (id_:1 shape) = (id_:1 ellipse)) ]))) ; (stmt:1 (node_stmt:1 (node_id:1 (id_:1 B)) (attr_list:1 [ (a_list:1 (id_:1 label) = (id_:1 \"Nodo B\") , (id_:1 shape) = (id_:1 box)) ]))) ; (stmt:1 (node_stmt:1 (node_id:1 (id_:1 C)) (attr_list:1 [ (a_list:1 (id_:1 label) = (id_:1 \"Nodo C\") , (id_:1 shape) = (id_:1 diamond)) ]))) ; (stmt:2 (edge_stmt:1 (node_id:1 (id_:1 A)) (edgeRHS:1 (edgeop:1 ->) (node_id:1 (id_:1 B))) (attr_list:1 [ (a_list:1 (id_:1 label) = (id_:1 \"A -> B\") , (id_:1 color) = (id_:1 blue)) ]))) ; (stmt:2 (edge_stmt:1 (node_id:1 (id_:1 B)) (edgeRHS:1 (edgeop:1 ->) (node_id:1 (id_:1 C))) (attr_list:1 [ (a_list:1 (id_:1 label) = (id_:1 \"B -> C\") , (id_:1 color) = (id_:1 red)) ]))) ; (stmt:2 (edge_stmt:1 (node_id:1 (id_:1 C)) (edgeRHS:1 (edgeop:1 ->) (node_id:1 (id_:1 A))) (attr_list:1 [ (a_list:1 (id_:1 label) = (id_:1 \"C -> A\") , (id_:1 color) = (id_:1 green)) ]))) ;) } <EOF>)\n"
          ]
        }
      ]
    },
    {
      "cell_type": "code",
      "source": [
        "#Se guarda el arbol sintactico en un archivo de texto plano -> arbol.txt\n",
        "!antlr4-parse DOT.g4 graph -tree ejemplo.expr > arbol.txt"
      ],
      "metadata": {
        "id": "orpecjjhjJfw"
      },
      "execution_count": null,
      "outputs": []
    },
    {
      "cell_type": "code",
      "source": [
        "import re\n",
        "import numpy as np\n",
        "import csv\n",
        "\n",
        "def parse_input_data(input_data):\n",
        "    edges = []\n",
        "    nodes = set()\n",
        "\n",
        "    # Use regex to extract edge information\n",
        "    edge_pattern = r'\\(node_id:\\d+ \\(id_:1 (\\w+)\\)\\)\\s*\\(edgeRHS:\\d+ \\(edgeop:1 ->\\) \\(node_id:\\d+ \\(id_:1 (\\w+)\\)\\)\\)'\n",
        "\n",
        "    matches = re.findall(edge_pattern, input_data)\n",
        "    for source, target in matches:\n",
        "        edges.append((source, target))\n",
        "        nodes.add(source)\n",
        "        nodes.add(target)\n",
        "\n",
        "    nodes = sorted(list(nodes))\n",
        "    node_to_index = {node: index for index, node in enumerate(nodes)}\n",
        "\n",
        "    # Create an adjacency matrix\n",
        "    num_nodes = len(nodes)\n",
        "    adjacency_matrix = np.zeros((num_nodes, num_nodes))\n",
        "\n",
        "    for source, target in edges:\n",
        "        source_index = node_to_index[source]\n",
        "        target_index = node_to_index[target]\n",
        "        adjacency_matrix[source_index][target_index] = 1\n",
        "\n",
        "    return adjacency_matrix, nodes\n",
        "\n",
        "def save_adjacency_matrix_to_csv(adjacency_matrix, nodes, csv_filename):\n",
        "    with open(csv_filename, 'w', newline='') as csvfile:\n",
        "        writer = csv.writer(csvfile)\n",
        "        writer.writerow([''] + nodes)  # Header row\n",
        "        for node, row in zip(nodes, adjacency_matrix):\n",
        "            writer.writerow([node] + row.tolist())\n",
        "\n",
        "#Datos de entrada\n",
        "with open('arbol.txt', 'r') as file:\n",
        "    input_data = file.read()\n",
        "\n",
        "# Parsear los datos y generar la matriz de adyacencia\n",
        "adjacency_matrix, nodes = parse_input_data(input_data)\n",
        "print(adjacency_matrix)\n",
        "# Guardar la matriz de adyacencia en un archivo CSV\n",
        "save_adjacency_matrix_to_csv(adjacency_matrix, nodes, 'adjacency_matrix.csv')\n"
      ],
      "metadata": {
        "colab": {
          "base_uri": "https://localhost:8080/"
        },
        "id": "ayFxqhD_S5a-",
        "outputId": "1e6b0ad3-e4df-4fcb-9cfb-e2b5f7dea062"
      },
      "execution_count": null,
      "outputs": [
        {
          "output_type": "stream",
          "name": "stdout",
          "text": [
            "[[0. 1. 0.]\n",
            " [0. 0. 1.]\n",
            " [1. 0. 0.]]\n"
          ]
        }
      ]
    },
    {
      "cell_type": "code",
      "source": [
        "#Instalación interna de ANTLR4\n",
        "!curl -O https://www.antlr.org/download/antlr-4.13.1-complete.jar\n",
        "#No se puede hacer el CLASSPATH para tener dentro de ahí nuestro antlr. Esto por el funcionamiento de las celdas"
      ],
      "metadata": {
        "colab": {
          "base_uri": "https://localhost:8080/"
        },
        "id": "rmbjcZaE_2WX",
        "outputId": "299e944f-8e8c-4e2a-8be5-c7f29eea74cb"
      },
      "execution_count": null,
      "outputs": [
        {
          "output_type": "stream",
          "name": "stdout",
          "text": [
            "  % Total    % Received % Xferd  Average Speed   Time    Time     Time  Current\n",
            "                                 Dload  Upload   Total   Spent    Left  Speed\n",
            "100 2089k  100 2089k    0     0  6808k      0 --:--:-- --:--:-- --:--:-- 6804k\n"
          ]
        }
      ]
    },
    {
      "cell_type": "code",
      "source": [
        "#Creamos una función grun para nuestro alias en python\n",
        "'''\n",
        "Este código de python será un sustituto de este comando:\n",
        "!alias grun='java org.antlr.v4.gui.TestRig'\n",
        "'''\n",
        "'''\n",
        "Se utilizara este comando dado por el getting-started de antlr4\n",
        "!alias grun='java -Xmx500M -cp \"/content/antlr-4.13.1-complete.jar:$CLASSPATH\" org.antlr.v4.gui.TestRig'\n",
        "'''\n",
        "import os\n",
        "import subprocess\n",
        "\n",
        "def grun(args):\n",
        "    classpath = os.environ.get('CLASSPATH')\n",
        "    subprocess.run([\"java\", \"-Xmx500M\", \"-cp\", f\"/content/antlr-4.13.1-complete.jar:{classpath}\", \"org.antlr.v4.gui.TestRig\"] + args.split())\n",
        "\n",
        "grun('DOT graph -tree ejemplo.expr')"
      ],
      "metadata": {
        "id": "CU-Al-A7CgOQ"
      },
      "execution_count": null,
      "outputs": []
    },
    {
      "cell_type": "code",
      "source": [
        "!cat /content/antlr-4.13.1-complete.jar"
      ],
      "metadata": {
        "id": "FiBmj2kIFJhf"
      },
      "execution_count": null,
      "outputs": []
    },
    {
      "cell_type": "code",
      "source": [
        "#Ejecutar nuestros archivos java que fueron generados por el antlr4\n",
        "!javac -cp /content/antlr-4.13.1-complete.jar DOT*.java"
      ],
      "metadata": {
        "id": "uCUdde-uATH0"
      },
      "execution_count": null,
      "outputs": []
    },
    {
      "cell_type": "code",
      "source": [
        "#Ejecución de nuestro antlr4 de forma manual usando el grun\n",
        "grun('DOT graph -tree ejemplo.expr')"
      ],
      "metadata": {
        "id": "bjd08CcRFxrS"
      },
      "execution_count": null,
      "outputs": []
    },
    {
      "cell_type": "code",
      "source": [
        "!java -Xmx500M -cp \"/content/antlr-4.13.1-complete.jar:$CLASSPATH\" org.antlr.v4.gui.TestRig DOT graph -tree ejemplo.expr"
      ],
      "metadata": {
        "colab": {
          "base_uri": "https://localhost:8080/"
        },
        "id": "sD1wr-tBG0Ef",
        "outputId": "a490b057-4cff-418e-97bd-47f2cb7a74de"
      },
      "execution_count": null,
      "outputs": [
        {
          "output_type": "stream",
          "name": "stdout",
          "text": [
            "(graph digraph (id_ G) { (stmt_list (stmt (node_stmt (node_id (id_ A)) (attr_list [ (a_list (id_ label) = (id_ \"Nodo A\") , (id_ shape) = (id_ ellipse)) ]))) ; (stmt (node_stmt (node_id (id_ B)) (attr_list [ (a_list (id_ label) = (id_ \"Nodo B\") , (id_ shape) = (id_ box)) ]))) ; (stmt (node_stmt (node_id (id_ C)) (attr_list [ (a_list (id_ label) = (id_ \"Nodo C\") , (id_ shape) = (id_ diamond)) ]))) ; (stmt (edge_stmt (node_id (id_ A)) (edgeRHS (edgeop ->) (node_id (id_ B))) (attr_list [ (a_list (id_ label) = (id_ \"A -> B\") , (id_ color) = (id_ blue)) ]))) ; (stmt (edge_stmt (node_id (id_ B)) (edgeRHS (edgeop ->) (node_id (id_ C))) (attr_list [ (a_list (id_ label) = (id_ \"B -> C\") , (id_ color) = (id_ red)) ]))) ; (stmt (edge_stmt (node_id (id_ C)) (edgeRHS (edgeop ->) (node_id (id_ A))) (attr_list [ (a_list (id_ label) = (id_ \"C -> A\") , (id_ color) = (id_ green)) ]))) ;) } <EOF>)\n"
          ]
        }
      ]
    },
    {
      "cell_type": "code",
      "source": [
        "!javac DOT*.java\n",
        "##Comprobar nuestro antlr4-tools en java\n",
        "!java org.antlr.v4.Tool"
      ],
      "metadata": {
        "id": "4TDUBqbmVfQM"
      },
      "execution_count": null,
      "outputs": []
    }
  ]
}